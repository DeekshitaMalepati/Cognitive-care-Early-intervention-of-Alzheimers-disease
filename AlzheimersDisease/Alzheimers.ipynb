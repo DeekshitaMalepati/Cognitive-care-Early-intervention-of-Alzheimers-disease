{
 "cells": [
  {
   "cell_type": "code",
   "execution_count": null,
   "metadata": {
    "id": "FMorlGpdWuWc"
   },
   "outputs": [],
   "source": [
    "!unzip '/content/ad-dataset.zip'"
   ]
  },
  {
   "cell_type": "code",
   "execution_count": null,
   "metadata": {
    "id": "gGK0Iswp6P6q"
   },
   "outputs": [],
   "source": []
  },
  {
   "cell_type": "code",
   "execution_count": 2,
   "metadata": {
    "id": "MdRYvTLtW1Yk"
   },
   "outputs": [
    {
     "ename": "ModuleNotFoundError",
     "evalue": "No module named 'tensorflow'",
     "output_type": "error",
     "traceback": [
      "\u001b[1;31m---------------------------------------------------------------------------\u001b[0m",
      "\u001b[1;31mModuleNotFoundError\u001b[0m                       Traceback (most recent call last)",
      "Cell \u001b[1;32mIn[2], line 1\u001b[0m\n\u001b[1;32m----> 1\u001b[0m \u001b[38;5;28;01mfrom\u001b[39;00m \u001b[38;5;21;01mtensorflow\u001b[39;00m\u001b[38;5;21;01m.\u001b[39;00m\u001b[38;5;21;01mkeras\u001b[39;00m\u001b[38;5;21;01m.\u001b[39;00m layers \u001b[38;5;28;01mimport\u001b[39;00m \u001b[38;5;21;01mDense\u001b[39;00m\u001b[38;5;241m,\u001b[39m \u001b[38;5;21;01mFlatten\u001b[39;00m\u001b[38;5;241m,\u001b[39m \u001b[38;5;21;01mInput\u001b[39;00m\u001b[38;5;241m,\u001b[39m \u001b[38;5;21;01mDropout\u001b[39;00m\n\u001b[0;32m      2\u001b[0m \u001b[38;5;28;01mfrom\u001b[39;00m \u001b[38;5;21;01mtensorflow\u001b[39;00m\u001b[38;5;21;01m.\u001b[39;00m\u001b[38;5;21;01mkeras\u001b[39;00m\u001b[38;5;21;01m.\u001b[39;00m\u001b[38;5;21;01mmodels\u001b[39;00m \u001b[38;5;28;01mimport\u001b[39;00m Model\n\u001b[0;32m      3\u001b[0m \u001b[38;5;28;01mfrom\u001b[39;00m \u001b[38;5;21;01mtensorflow\u001b[39;00m\u001b[38;5;21;01m.\u001b[39;00m\u001b[38;5;21;01mkeras\u001b[39;00m\u001b[38;5;21;01m.\u001b[39;00m\u001b[38;5;21;01mpreprocessing\u001b[39;00m \u001b[38;5;28;01mimport\u001b[39;00m image\n",
      "\u001b[1;31mModuleNotFoundError\u001b[0m: No module named 'tensorflow'"
     ]
    }
   ],
   "source": [
    "from tensorflow.keras. layers import Dense, Flatten, Input, Dropout\n",
    "from tensorflow.keras.models import Model\n",
    "from tensorflow.keras.preprocessing import image\n",
    "from tensorflow. keras.preprocessing.image import ImageDataGenerator, load_img\n",
    "from tensorflow. keras.applications.xception import Xception\n",
    "import numpy as np"
   ]
  },
  {
   "cell_type": "code",
   "execution_count": 4,
   "metadata": {
    "id": "Q_0wp93zcsVT"
   },
   "outputs": [],
   "source": [
    "trainPath = r\"/content/Alzheimer_s Dataset/train\"\n",
    "testPath = r\"/content/Alzheimer_s Dataset/test\""
   ]
  },
  {
   "cell_type": "code",
   "execution_count": 5,
   "metadata": {
    "colab": {
     "base_uri": "https://localhost:8080/"
    },
    "id": "daEHx9uEX3Ci",
    "outputId": "f84275bf-c67e-4188-bc1b-469680c9144a"
   },
   "outputs": [
    {
     "name": "stdout",
     "output_type": "stream",
     "text": [
      "Found 5121 images belonging to 4 classes.\n"
     ]
    }
   ],
   "source": [
    "from tensorflow.keras.preprocessing.image import ImageDataGenerator as IDG\n",
    "IMG_SIZE = 180\n",
    "IMAGE_SIZE = [180, 180]\n",
    "DIM = (IMG_SIZE, IMG_SIZE)\n",
    "ZOOM = [.99, 1.01]\n",
    "BRIGHT_RANGE = [0.8, 1.2]\n",
    "HORZ_FLIP = True\n",
    "FILL_MODE = \"constant\"\n",
    "DATA_FORMAT = \"channels_last\"\n",
    "WORK_DIR=\"/content/Alzheimer_s Dataset/train\"\n",
    "work_dr = IDG(rescale = 1./255, brightness_range=BRIGHT_RANGE, zoom_range=ZOOM, data_format=DATA_FORMAT, fill_mode=FILL_MODE,\n",
    "horizontal_flip=HORZ_FLIP)\n",
    "train_data_gen = work_dr.flow_from_directory(directory=WORK_DIR, target_size=DIM, batch_size=6500, shuffle=False)"
   ]
  },
  {
   "cell_type": "code",
   "execution_count": 6,
   "metadata": {
    "colab": {
     "base_uri": "https://localhost:8080/"
    },
    "id": "yHiS02AH6Chp",
    "outputId": "04005214-7ebf-4354-cd3b-7b0eb096b866"
   },
   "outputs": [
    {
     "name": "stdout",
     "output_type": "stream",
     "text": [
      "(5121, 180, 180, 3) (5121, 4)\n"
     ]
    }
   ],
   "source": [
    "train_data, train_labels = train_data_gen.next()\n",
    "#before oversampling\n",
    "print(train_data.shape, train_labels.shape)"
   ]
  },
  {
   "cell_type": "code",
   "execution_count": 7,
   "metadata": {
    "colab": {
     "base_uri": "https://localhost:8080/"
    },
    "id": "KbuT1WyX7oq5",
    "outputId": "80f8fd0c-4d0f-47dc-cbc0-6235d2b87635"
   },
   "outputs": [
    {
     "name": "stdout",
     "output_type": "stream",
     "text": [
      "(10240, 180, 180, 3) (10240, 4)\n"
     ]
    }
   ],
   "source": [
    "#Performing over-sampling of the data, since the classes are imbalanced\n",
    "#after oversampling\n",
    "from imblearn.over_sampling import SMOTE\n",
    "sm = SMOTE (random_state=42)\n",
    "train_data, train_labels = sm.fit_resample(train_data.reshape(-1, IMG_SIZE * IMG_SIZE * 3), train_labels)\n",
    "train_data = train_data.reshape(-1, IMG_SIZE, IMG_SIZE, 3)\n",
    "print(train_data.shape, train_labels.shape)"
   ]
  },
  {
   "cell_type": "code",
   "execution_count": 8,
   "metadata": {
    "id": "fbSnnnoE7239"
   },
   "outputs": [],
   "source": [
    "#Splitting the data into train, test, and validation sets\n",
    "from sklearn.model_selection import train_test_split\n",
    "train_data, test_data, train_labels, test_labels = train_test_split(train_data,\ttrain_labels, test_size = 0.2, random_state=42)\n",
    "train_data, val_data, train_labels, val_labels = train_test_split(train_data, train_labels, test_size = 0.2, random_state=42)"
   ]
  },
  {
   "cell_type": "code",
   "execution_count": 9,
   "metadata": {
    "id": "50fLgUoF87MK"
   },
   "outputs": [],
   "source": [
    "IMAGE_SIZE=[180,180]"
   ]
  },
  {
   "cell_type": "code",
   "execution_count": 10,
   "metadata": {
    "id": "d7A2hvB-9C5l"
   },
   "outputs": [],
   "source": [
    "xcep_model = Xception(input_shape=IMAGE_SIZE+[3], weights='imagenet', include_top=False)"
   ]
  },
  {
   "cell_type": "code",
   "execution_count": 11,
   "metadata": {
    "id": "HBK4qgmE9TLB"
   },
   "outputs": [],
   "source": [
    "for layer in xcep_model.layers:\n",
    "    layer.trainable=False"
   ]
  },
  {
   "cell_type": "code",
   "execution_count": 12,
   "metadata": {
    "id": "wnCFfTzT_URh"
   },
   "outputs": [],
   "source": [
    "from tensorflow.keras.models import Sequential\n",
    "from tensorflow.keras.layers import SeparableConv2D, BatchNormalization, GlobalAveragePooling2D\n",
    "custom_inception_model = Sequential([\n",
    "        xcep_model,\n",
    "        Dropout(0.5),\n",
    "        GlobalAveragePooling2D(),\n",
    "        Flatten(),\n",
    "        BatchNormalization(),\n",
    "        Dense(512, activation='relu'),\n",
    "        BatchNormalization(),\n",
    "        Dropout(0.5),\n",
    "        Dense(256, activation='relu'),\n",
    "        BatchNormalization(),\n",
    "        Dropout(0.5),\n",
    "        Dense(128, activation='relu'),\n",
    "        BatchNormalization(),\n",
    "        Dropout (0.5),\n",
    "        Dense(64, activation='relu'),\n",
    "        Dropout (0.5),\n",
    "        BatchNormalization(),\n",
    "        Dense(4, activation='softmax')\n",
    "      ], name = \"inception_cnn_model\")"
   ]
  },
  {
   "cell_type": "code",
   "execution_count": 13,
   "metadata": {
    "id": "Hxqx4BDZBcod"
   },
   "outputs": [],
   "source": [
    "import tensorflow\n",
    "METRICS = [tensorflow.keras.metrics.CategoricalAccuracy(name='acc'),\n",
    "          tensorflow.keras.metrics.AUC(name='auc')]\n",
    "custom_inception_model.compile(optimizer='rmsprop',\n",
    "                                loss=tensorflow.losses.CategoricalCrossentropy(),\n",
    "                                metrics=METRICS)"
   ]
  },
  {
   "cell_type": "code",
   "execution_count": 14,
   "metadata": {
    "colab": {
     "base_uri": "https://localhost:8080/"
    },
    "id": "RFfueOL4CkkM",
    "outputId": "ac19b3b0-ca8c-4058-efe7-53daa71cfe88"
   },
   "outputs": [
    {
     "name": "stdout",
     "output_type": "stream",
     "text": [
      "Epoch 1/40\n",
      "205/205 [==============================] - 40s 139ms/step - loss: 1.3967 - acc: 0.4201 - auc: 0.6875 - val_loss: 0.9040 - val_acc: 0.6162 - val_auc: 0.8684\n",
      "Epoch 2/40\n",
      "205/205 [==============================] - 22s 108ms/step - loss: 0.9389 - acc: 0.5727 - auc: 0.8404 - val_loss: 0.6818 - val_acc: 0.6870 - val_auc: 0.9145\n",
      "Epoch 3/40\n",
      "205/205 [==============================] - 23s 111ms/step - loss: 0.7948 - acc: 0.6299 - auc: 0.8830 - val_loss: 0.6505 - val_acc: 0.7004 - val_auc: 0.9208\n",
      "Epoch 4/40\n",
      "205/205 [==============================] - 22s 106ms/step - loss: 0.7169 - acc: 0.6750 - auc: 0.9055 - val_loss: 0.6154 - val_acc: 0.7126 - val_auc: 0.9290\n",
      "Epoch 5/40\n",
      "205/205 [==============================] - 22s 107ms/step - loss: 0.6764 - acc: 0.7047 - auc: 0.9175 - val_loss: 0.5939 - val_acc: 0.7212 - val_auc: 0.9335\n",
      "Epoch 6/40\n",
      "205/205 [==============================] - 22s 107ms/step - loss: 0.6450 - acc: 0.7207 - auc: 0.9255 - val_loss: 0.5605 - val_acc: 0.7383 - val_auc: 0.9418\n",
      "Epoch 7/40\n",
      "205/205 [==============================] - 23s 111ms/step - loss: 0.6122 - acc: 0.7378 - auc: 0.9335 - val_loss: 0.5684 - val_acc: 0.7437 - val_auc: 0.9404\n",
      "Epoch 8/40\n",
      "205/205 [==============================] - 22s 106ms/step - loss: 0.5943 - acc: 0.7543 - auc: 0.9378 - val_loss: 0.5351 - val_acc: 0.7505 - val_auc: 0.9477\n",
      "Epoch 9/40\n",
      "205/205 [==============================] - 22s 107ms/step - loss: 0.5615 - acc: 0.7670 - auc: 0.9439 - val_loss: 0.5097 - val_acc: 0.7718 - val_auc: 0.9520\n",
      "Epoch 10/40\n",
      "205/205 [==============================] - 22s 106ms/step - loss: 0.5378 - acc: 0.7816 - auc: 0.9495 - val_loss: 0.4807 - val_acc: 0.7865 - val_auc: 0.9574\n",
      "Epoch 11/40\n",
      "205/205 [==============================] - 22s 107ms/step - loss: 0.5153 - acc: 0.7946 - auc: 0.9534 - val_loss: 0.4659 - val_acc: 0.7926 - val_auc: 0.9603\n",
      "Epoch 12/40\n",
      "205/205 [==============================] - 23s 112ms/step - loss: 0.4994 - acc: 0.8050 - auc: 0.9559 - val_loss: 0.4557 - val_acc: 0.8078 - val_auc: 0.9621\n",
      "Epoch 13/40\n",
      "205/205 [==============================] - 23s 111ms/step - loss: 0.4700 - acc: 0.8183 - auc: 0.9612 - val_loss: 0.4338 - val_acc: 0.8157 - val_auc: 0.9655\n",
      "Epoch 14/40\n",
      "205/205 [==============================] - 23s 111ms/step - loss: 0.4397 - acc: 0.8312 - auc: 0.9656 - val_loss: 0.4692 - val_acc: 0.7968 - val_auc: 0.9610\n",
      "Epoch 15/40\n",
      "205/205 [==============================] - 23s 111ms/step - loss: 0.4153 - acc: 0.8384 - auc: 0.9693 - val_loss: 0.4387 - val_acc: 0.8194 - val_auc: 0.9660\n",
      "Epoch 16/40\n",
      "205/205 [==============================] - 22s 107ms/step - loss: 0.4145 - acc: 0.8422 - auc: 0.9693 - val_loss: 0.4014 - val_acc: 0.8218 - val_auc: 0.9708\n",
      "Epoch 17/40\n",
      "205/205 [==============================] - 22s 106ms/step - loss: 0.3892 - acc: 0.8540 - auc: 0.9728 - val_loss: 0.4213 - val_acc: 0.8225 - val_auc: 0.9683\n",
      "Epoch 18/40\n",
      "205/205 [==============================] - 22s 106ms/step - loss: 0.3877 - acc: 0.8524 - auc: 0.9728 - val_loss: 0.4176 - val_acc: 0.8237 - val_auc: 0.9691\n",
      "Epoch 19/40\n",
      "205/205 [==============================] - 22s 107ms/step - loss: 0.3604 - acc: 0.8709 - auc: 0.9761 - val_loss: 0.4149 - val_acc: 0.8267 - val_auc: 0.9700\n",
      "Epoch 20/40\n",
      "205/205 [==============================] - 22s 106ms/step - loss: 0.3535 - acc: 0.8685 - auc: 0.9771 - val_loss: 0.3959 - val_acc: 0.8395 - val_auc: 0.9720\n",
      "Epoch 21/40\n",
      "205/205 [==============================] - 22s 106ms/step - loss: 0.3344 - acc: 0.8762 - auc: 0.9795 - val_loss: 0.4116 - val_acc: 0.8316 - val_auc: 0.9703\n",
      "Epoch 22/40\n",
      "205/205 [==============================] - 22s 107ms/step - loss: 0.3321 - acc: 0.8782 - auc: 0.9792 - val_loss: 0.3892 - val_acc: 0.8414 - val_auc: 0.9734\n",
      "Epoch 23/40\n",
      "205/205 [==============================] - 22s 106ms/step - loss: 0.3279 - acc: 0.8807 - auc: 0.9801 - val_loss: 0.3695 - val_acc: 0.8469 - val_auc: 0.9761\n",
      "Epoch 24/40\n",
      "205/205 [==============================] - 22s 106ms/step - loss: 0.3123 - acc: 0.8869 - auc: 0.9816 - val_loss: 0.3668 - val_acc: 0.8511 - val_auc: 0.9770\n",
      "Epoch 25/40\n",
      "205/205 [==============================] - 22s 107ms/step - loss: 0.3142 - acc: 0.8875 - auc: 0.9816 - val_loss: 0.3762 - val_acc: 0.8542 - val_auc: 0.9756\n",
      "Epoch 26/40\n",
      "205/205 [==============================] - 23s 111ms/step - loss: 0.3017 - acc: 0.8917 - auc: 0.9826 - val_loss: 0.3677 - val_acc: 0.8554 - val_auc: 0.9767\n",
      "Epoch 27/40\n",
      "205/205 [==============================] - 22s 106ms/step - loss: 0.2950 - acc: 0.8990 - auc: 0.9834 - val_loss: 0.3622 - val_acc: 0.8475 - val_auc: 0.9772\n",
      "Epoch 28/40\n",
      "205/205 [==============================] - 22s 107ms/step - loss: 0.2843 - acc: 0.8970 - auc: 0.9845 - val_loss: 0.3667 - val_acc: 0.8530 - val_auc: 0.9776\n",
      "Epoch 29/40\n",
      "205/205 [==============================] - 23s 112ms/step - loss: 0.2837 - acc: 0.9008 - auc: 0.9845 - val_loss: 0.3831 - val_acc: 0.8548 - val_auc: 0.9764\n",
      "Epoch 30/40\n",
      "205/205 [==============================] - 23s 111ms/step - loss: 0.2757 - acc: 0.9084 - auc: 0.9848 - val_loss: 0.3572 - val_acc: 0.8603 - val_auc: 0.9787\n",
      "Epoch 31/40\n",
      "205/205 [==============================] - 22s 106ms/step - loss: 0.2563 - acc: 0.9095 - auc: 0.9873 - val_loss: 0.3470 - val_acc: 0.8615 - val_auc: 0.9798\n",
      "Epoch 32/40\n",
      "205/205 [==============================] - 22s 107ms/step - loss: 0.2598 - acc: 0.9148 - auc: 0.9870 - val_loss: 0.3309 - val_acc: 0.8694 - val_auc: 0.9819\n",
      "Epoch 33/40\n",
      "205/205 [==============================] - 22s 106ms/step - loss: 0.2619 - acc: 0.9144 - auc: 0.9865 - val_loss: 0.3584 - val_acc: 0.8646 - val_auc: 0.9791\n",
      "Epoch 34/40\n",
      "205/205 [==============================] - 23s 111ms/step - loss: 0.2396 - acc: 0.9161 - auc: 0.9885 - val_loss: 0.3410 - val_acc: 0.8731 - val_auc: 0.9808\n",
      "Epoch 35/40\n",
      "205/205 [==============================] - 22s 107ms/step - loss: 0.2406 - acc: 0.9147 - auc: 0.9881 - val_loss: 0.3361 - val_acc: 0.8682 - val_auc: 0.9813\n",
      "Epoch 36/40\n",
      "205/205 [==============================] - 23s 111ms/step - loss: 0.2254 - acc: 0.9219 - auc: 0.9896 - val_loss: 0.3368 - val_acc: 0.8737 - val_auc: 0.9803\n",
      "Epoch 37/40\n",
      "205/205 [==============================] - 22s 106ms/step - loss: 0.2315 - acc: 0.9228 - auc: 0.9887 - val_loss: 0.3479 - val_acc: 0.8755 - val_auc: 0.9799\n",
      "Epoch 38/40\n",
      "205/205 [==============================] - 23s 111ms/step - loss: 0.2253 - acc: 0.9222 - auc: 0.9896 - val_loss: 0.3661 - val_acc: 0.8633 - val_auc: 0.9787\n",
      "Epoch 39/40\n",
      "205/205 [==============================] - 22s 107ms/step - loss: 0.2378 - acc: 0.9208 - auc: 0.9881 - val_loss: 0.3434 - val_acc: 0.8761 - val_auc: 0.9807\n",
      "Epoch 40/40\n",
      "205/205 [==============================] - 22s 106ms/step - loss: 0.2182 - acc: 0.9274 - auc: 0.9903 - val_loss: 0.3600 - val_acc: 0.8755 - val_auc: 0.9810\n"
     ]
    }
   ],
   "source": [
    "history = custom_inception_model.fit(train_data, train_labels, validation_data=(val_data, val_labels), epochs=40)"
   ]
  },
  {
   "cell_type": "code",
   "execution_count": 15,
   "metadata": {
    "colab": {
     "base_uri": "https://localhost:8080/"
    },
    "id": "xAWXBWUoC8jq",
    "outputId": "c00b17cb-11f9-447b-ea87-bd0ee1b7adef"
   },
   "outputs": [
    {
     "name": "stderr",
     "output_type": "stream",
     "text": [
      "/usr/local/lib/python3.10/dist-packages/keras/src/engine/training.py:3103: UserWarning: You are saving your model as an HDF5 file via `model.save()`. This file format is considered legacy. We recommend using instead the native Keras format, e.g. `model.save('my_model.keras')`.\n",
      "  saving_api.save_model(\n"
     ]
    }
   ],
   "source": [
    "custom_inception_model.save('adp.h5')"
   ]
  },
  {
   "cell_type": "code",
   "execution_count": 1,
   "metadata": {
    "id": "0DeIiSUmzul9"
   },
   "outputs": [
    {
     "ename": "ModuleNotFoundError",
     "evalue": "No module named 'tensorflow'",
     "output_type": "error",
     "traceback": [
      "\u001b[1;31m---------------------------------------------------------------------------\u001b[0m",
      "\u001b[1;31mModuleNotFoundError\u001b[0m                       Traceback (most recent call last)",
      "Cell \u001b[1;32mIn[1], line 2\u001b[0m\n\u001b[0;32m      1\u001b[0m \u001b[38;5;66;03m#import load model class for loading h5 file\u001b[39;00m\n\u001b[1;32m----> 2\u001b[0m \u001b[38;5;28;01mfrom\u001b[39;00m \u001b[38;5;21;01mtensorflow\u001b[39;00m\u001b[38;5;21;01m.\u001b[39;00m\u001b[38;5;21;01mkeras\u001b[39;00m\u001b[38;5;21;01m.\u001b[39;00m\u001b[38;5;21;01mmodels\u001b[39;00m \u001b[38;5;28;01mimport\u001b[39;00m load_model\n\u001b[0;32m      3\u001b[0m \u001b[38;5;66;03m#import image class to process the images\u001b[39;00m\n\u001b[0;32m      4\u001b[0m \u001b[38;5;28;01mfrom\u001b[39;00m \u001b[38;5;21;01mtensorflow\u001b[39;00m\u001b[38;5;21;01m.\u001b[39;00m\u001b[38;5;21;01mkeras\u001b[39;00m\u001b[38;5;21;01m.\u001b[39;00m\u001b[38;5;21;01mpreprocessing\u001b[39;00m \u001b[38;5;28;01mimport\u001b[39;00m image\n",
      "\u001b[1;31mModuleNotFoundError\u001b[0m: No module named 'tensorflow'"
     ]
    }
   ],
   "source": [
    "#import load model class for loading h5 file\n",
    "from tensorflow.keras.models import load_model\n",
    "#import image class to process the images\n",
    "from tensorflow.keras.preprocessing import image\n",
    "from tensorflow. keras.applications.xception import preprocess_input\n",
    "import numpy as np\n",
    "model = load_model('/content/adp.h5')"
   ]
  },
  {
   "cell_type": "code",
   "execution_count": 17,
   "metadata": {
    "colab": {
     "base_uri": "https://localhost:8080/"
    },
    "id": "hngPlgFy0ddY",
    "outputId": "fab317eb-3087-44ac-893c-9c02806cfb1f"
   },
   "outputs": [
    {
     "name": "stdout",
     "output_type": "stream",
     "text": [
      "1/1 [==============================] - 2s 2s/step\n",
      "1/1 [==============================] - 0s 32ms/step\n",
      "[3]\n"
     ]
    }
   ],
   "source": [
    "img=image.load_img(r'/content/Alzheimer_s Dataset/train/VeryMildDemented/verymildDem1077.jpg', target_size=(180,180))\n",
    "x=image.img_to_array(img)\n",
    "import numpy as np\n",
    "x=np.expand_dims(x,axis=0)\n",
    "img_data=preprocess_input(x)\n",
    "img_data.shape\n",
    "img_data.shape\n",
    "model.predict(img_data)\n",
    "output=np.argmax(model.predict(img_data), axis=1)\n",
    "print(output)"
   ]
  },
  {
   "cell_type": "code",
   "execution_count": null,
   "metadata": {
    "id": "-Otj_a9tAMRQ"
   },
   "outputs": [],
   "source": []
  }
 ],
 "metadata": {
  "accelerator": "GPU",
  "colab": {
   "gpuType": "T4",
   "provenance": []
  },
  "kernelspec": {
   "display_name": "Python 3 (ipykernel)",
   "language": "python",
   "name": "python3"
  },
  "language_info": {
   "codemirror_mode": {
    "name": "ipython",
    "version": 3
   },
   "file_extension": ".py",
   "mimetype": "text/x-python",
   "name": "python",
   "nbconvert_exporter": "python",
   "pygments_lexer": "ipython3",
   "version": "3.11.7"
  }
 },
 "nbformat": 4,
 "nbformat_minor": 1
}
